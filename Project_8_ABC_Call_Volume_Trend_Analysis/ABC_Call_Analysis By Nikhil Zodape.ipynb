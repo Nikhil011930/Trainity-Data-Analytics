{
 "cells": [
  {
   "cell_type": "code",
   "execution_count": 1,
   "metadata": {},
   "outputs": [],
   "source": [
    "import warnings\n",
    "warnings.filterwarnings('ignore')\n",
    "\n",
    "import pandas as pd\n",
    "import numpy as np\n",
    "import matplotlib.pyplot as plt\n",
    "import seaborn as sns\n",
    "\n",
    "pd.options.display.max_columns = None"
   ]
  },
  {
   "cell_type": "code",
   "execution_count": 2,
   "metadata": {},
   "outputs": [],
   "source": [
    "abc_call = pd.read_csv('./Call_Volume_Trend_Analysis_Project_9.xlsx - Call_Data.csv')"
   ]
  },
  {
   "cell_type": "code",
   "execution_count": 3,
   "metadata": {},
   "outputs": [
    {
     "data": {
      "text/html": [
       "<div>\n",
       "<style scoped>\n",
       "    .dataframe tbody tr th:only-of-type {\n",
       "        vertical-align: middle;\n",
       "    }\n",
       "\n",
       "    .dataframe tbody tr th {\n",
       "        vertical-align: top;\n",
       "    }\n",
       "\n",
       "    .dataframe thead th {\n",
       "        text-align: right;\n",
       "    }\n",
       "</style>\n",
       "<table border=\"1\" class=\"dataframe\">\n",
       "  <thead>\n",
       "    <tr style=\"text-align: right;\">\n",
       "      <th></th>\n",
       "      <th>Agent_Name</th>\n",
       "      <th>Agent_ID</th>\n",
       "      <th>Customer_Phone_No</th>\n",
       "      <th>Queue_Time(Secs)</th>\n",
       "      <th>Date_&amp;_Time</th>\n",
       "      <th>Time</th>\n",
       "      <th>Time_Bucket</th>\n",
       "      <th>Duration(hh:mm:ss)</th>\n",
       "      <th>Call_Seconds (s)</th>\n",
       "      <th>Call_Status</th>\n",
       "      <th>Wrapped _By</th>\n",
       "      <th>Ringing</th>\n",
       "      <th>IVR _Duration</th>\n",
       "    </tr>\n",
       "  </thead>\n",
       "  <tbody>\n",
       "    <tr>\n",
       "      <th>0</th>\n",
       "      <td>Executives 42</td>\n",
       "      <td>1000042.0</td>\n",
       "      <td>98502XXXXX</td>\n",
       "      <td>2</td>\n",
       "      <td>1/1/2022</td>\n",
       "      <td>9.0</td>\n",
       "      <td>9_10</td>\n",
       "      <td>0:01:36</td>\n",
       "      <td>96.0</td>\n",
       "      <td>answered</td>\n",
       "      <td>Agent</td>\n",
       "      <td>YES</td>\n",
       "      <td>0:00:16</td>\n",
       "    </tr>\n",
       "    <tr>\n",
       "      <th>1</th>\n",
       "      <td>Executives 4</td>\n",
       "      <td>1000004.0</td>\n",
       "      <td>80595XXXXX</td>\n",
       "      <td>0</td>\n",
       "      <td>1/1/2022</td>\n",
       "      <td>9.0</td>\n",
       "      <td>9_10</td>\n",
       "      <td>0:02:20</td>\n",
       "      <td>140.0</td>\n",
       "      <td>answered</td>\n",
       "      <td>Agent</td>\n",
       "      <td>YES</td>\n",
       "      <td>0:00:26</td>\n",
       "    </tr>\n",
       "    <tr>\n",
       "      <th>2</th>\n",
       "      <td>Executives 65</td>\n",
       "      <td>1000065.0</td>\n",
       "      <td>70202XXXXX</td>\n",
       "      <td>0</td>\n",
       "      <td>1/1/2022</td>\n",
       "      <td>9.0</td>\n",
       "      <td>9_10</td>\n",
       "      <td>0:01:25</td>\n",
       "      <td>85.0</td>\n",
       "      <td>answered</td>\n",
       "      <td>AutoWrapped</td>\n",
       "      <td>YES</td>\n",
       "      <td>0:00:16</td>\n",
       "    </tr>\n",
       "    <tr>\n",
       "      <th>3</th>\n",
       "      <td>Executives 55</td>\n",
       "      <td>1000055.0</td>\n",
       "      <td>96104XXXXX</td>\n",
       "      <td>1</td>\n",
       "      <td>1/1/2022</td>\n",
       "      <td>9.0</td>\n",
       "      <td>9_10</td>\n",
       "      <td>0:01:31</td>\n",
       "      <td>91.0</td>\n",
       "      <td>answered</td>\n",
       "      <td>Agent</td>\n",
       "      <td>YES</td>\n",
       "      <td>0:00:25</td>\n",
       "    </tr>\n",
       "    <tr>\n",
       "      <th>4</th>\n",
       "      <td>Executives 21</td>\n",
       "      <td>1000021.0</td>\n",
       "      <td>82001XXXXX</td>\n",
       "      <td>0</td>\n",
       "      <td>1/1/2022</td>\n",
       "      <td>9.0</td>\n",
       "      <td>9_10</td>\n",
       "      <td>0:02:45</td>\n",
       "      <td>165.0</td>\n",
       "      <td>answered</td>\n",
       "      <td>Agent</td>\n",
       "      <td>YES</td>\n",
       "      <td>0:00:23</td>\n",
       "    </tr>\n",
       "  </tbody>\n",
       "</table>\n",
       "</div>"
      ],
      "text/plain": [
       "      Agent_Name   Agent_ID Customer_Phone_No  Queue_Time(Secs) Date_&_Time  \\\n",
       "0  Executives 42  1000042.0        98502XXXXX                 2    1/1/2022   \n",
       "1   Executives 4  1000004.0        80595XXXXX                 0    1/1/2022   \n",
       "2  Executives 65  1000065.0        70202XXXXX                 0    1/1/2022   \n",
       "3  Executives 55  1000055.0        96104XXXXX                 1    1/1/2022   \n",
       "4  Executives 21  1000021.0        82001XXXXX                 0    1/1/2022   \n",
       "\n",
       "   Time Time_Bucket Duration(hh:mm:ss)  Call_Seconds (s) Call_Status  \\\n",
       "0   9.0        9_10            0:01:36              96.0    answered   \n",
       "1   9.0        9_10            0:02:20             140.0    answered   \n",
       "2   9.0        9_10            0:01:25              85.0    answered   \n",
       "3   9.0        9_10            0:01:31              91.0    answered   \n",
       "4   9.0        9_10            0:02:45             165.0    answered   \n",
       "\n",
       "   Wrapped _By Ringing IVR _Duration  \n",
       "0        Agent     YES       0:00:16  \n",
       "1        Agent     YES       0:00:26  \n",
       "2  AutoWrapped     YES       0:00:16  \n",
       "3        Agent     YES       0:00:25  \n",
       "4        Agent     YES       0:00:23  "
      ]
     },
     "execution_count": 3,
     "metadata": {},
     "output_type": "execute_result"
    }
   ],
   "source": [
    "abc_call.head()"
   ]
  },
  {
   "cell_type": "code",
   "execution_count": 4,
   "metadata": {},
   "outputs": [
    {
     "data": {
      "text/plain": [
       "(117988, 13)"
      ]
     },
     "execution_count": 4,
     "metadata": {},
     "output_type": "execute_result"
    }
   ],
   "source": [
    "abc_call.shape"
   ]
  },
  {
   "cell_type": "code",
   "execution_count": 5,
   "metadata": {},
   "outputs": [
    {
     "data": {
      "text/plain": [
       "Agent_Name             object\n",
       "Agent_ID              float64\n",
       "Customer_Phone_No      object\n",
       "Queue_Time(Secs)        int64\n",
       "Date_&_Time            object\n",
       "Time                  float64\n",
       "Time_Bucket            object\n",
       "Duration(hh:mm:ss)     object\n",
       "Call_Seconds (s)      float64\n",
       "Call_Status            object\n",
       "Wrapped _By            object\n",
       "Ringing                object\n",
       "IVR _Duration          object\n",
       "dtype: object"
      ]
     },
     "execution_count": 5,
     "metadata": {},
     "output_type": "execute_result"
    }
   ],
   "source": [
    "abc_call.dtypes"
   ]
  },
  {
   "cell_type": "code",
   "execution_count": 6,
   "metadata": {},
   "outputs": [
    {
     "data": {
      "text/plain": [
       "Wrapped _By           47877\n",
       "Agent_Name            34198\n",
       "Agent_ID              34198\n",
       "Customer_Phone_No         0\n",
       "Queue_Time(Secs)          0\n",
       "Date_&_Time               0\n",
       "Time                      0\n",
       "Time_Bucket               0\n",
       "Duration(hh:mm:ss)        0\n",
       "Call_Seconds (s)          0\n",
       "Call_Status               0\n",
       "Ringing                   0\n",
       "IVR _Duration             0\n",
       "dtype: int64"
      ]
     },
     "execution_count": 6,
     "metadata": {},
     "output_type": "execute_result"
    }
   ],
   "source": [
    "abc_call.isnull().sum().sort_values(ascending = False)"
   ]
  },
  {
   "cell_type": "code",
   "execution_count": 7,
   "metadata": {},
   "outputs": [
    {
     "data": {
      "text/html": [
       "<div>\n",
       "<style scoped>\n",
       "    .dataframe tbody tr th:only-of-type {\n",
       "        vertical-align: middle;\n",
       "    }\n",
       "\n",
       "    .dataframe tbody tr th {\n",
       "        vertical-align: top;\n",
       "    }\n",
       "\n",
       "    .dataframe thead th {\n",
       "        text-align: right;\n",
       "    }\n",
       "</style>\n",
       "<table border=\"1\" class=\"dataframe\">\n",
       "  <thead>\n",
       "    <tr style=\"text-align: right;\">\n",
       "      <th></th>\n",
       "      <th>Agent_Name</th>\n",
       "      <th>Agent_ID</th>\n",
       "      <th>Customer_Phone_No</th>\n",
       "      <th>Queue_Time(Secs)</th>\n",
       "      <th>Date_&amp;_Time</th>\n",
       "      <th>Time</th>\n",
       "      <th>Time_Bucket</th>\n",
       "      <th>Duration(hh:mm:ss)</th>\n",
       "      <th>Call_Seconds (s)</th>\n",
       "      <th>Call_Status</th>\n",
       "      <th>Wrapped _By</th>\n",
       "      <th>Ringing</th>\n",
       "      <th>IVR _Duration</th>\n",
       "    </tr>\n",
       "  </thead>\n",
       "  <tbody>\n",
       "    <tr>\n",
       "      <th>42</th>\n",
       "      <td>NaN</td>\n",
       "      <td>NaN</td>\n",
       "      <td>87782XXXXX</td>\n",
       "      <td>16</td>\n",
       "      <td>1/1/2022</td>\n",
       "      <td>9.0</td>\n",
       "      <td>9_10</td>\n",
       "      <td>0:00:00</td>\n",
       "      <td>0.0</td>\n",
       "      <td>abandon</td>\n",
       "      <td>NaN</td>\n",
       "      <td>YES</td>\n",
       "      <td>0:00:16</td>\n",
       "    </tr>\n",
       "    <tr>\n",
       "      <th>312</th>\n",
       "      <td>NaN</td>\n",
       "      <td>NaN</td>\n",
       "      <td>96336XXXXX</td>\n",
       "      <td>120</td>\n",
       "      <td>1/1/2022</td>\n",
       "      <td>9.0</td>\n",
       "      <td>9_10</td>\n",
       "      <td>0:00:00</td>\n",
       "      <td>0.0</td>\n",
       "      <td>abandon</td>\n",
       "      <td>NaN</td>\n",
       "      <td>YES</td>\n",
       "      <td>0:00:14</td>\n",
       "    </tr>\n",
       "    <tr>\n",
       "      <th>4397</th>\n",
       "      <td>NaN</td>\n",
       "      <td>NaN</td>\n",
       "      <td>78499XXXXX</td>\n",
       "      <td>120</td>\n",
       "      <td>1/1/2022</td>\n",
       "      <td>20.0</td>\n",
       "      <td>20_21</td>\n",
       "      <td>0:00:00</td>\n",
       "      <td>0.0</td>\n",
       "      <td>abandon</td>\n",
       "      <td>NaN</td>\n",
       "      <td>YES</td>\n",
       "      <td>0:00:17</td>\n",
       "    </tr>\n",
       "    <tr>\n",
       "      <th>4436</th>\n",
       "      <td>NaN</td>\n",
       "      <td>NaN</td>\n",
       "      <td>93589XXXXX</td>\n",
       "      <td>120</td>\n",
       "      <td>1/1/2022</td>\n",
       "      <td>20.0</td>\n",
       "      <td>20_21</td>\n",
       "      <td>0:00:00</td>\n",
       "      <td>0.0</td>\n",
       "      <td>abandon</td>\n",
       "      <td>NaN</td>\n",
       "      <td>YES</td>\n",
       "      <td>0:00:14</td>\n",
       "    </tr>\n",
       "    <tr>\n",
       "      <th>4507</th>\n",
       "      <td>NaN</td>\n",
       "      <td>NaN</td>\n",
       "      <td>91779XXXXX</td>\n",
       "      <td>120</td>\n",
       "      <td>1/1/2022</td>\n",
       "      <td>20.0</td>\n",
       "      <td>20_21</td>\n",
       "      <td>0:00:00</td>\n",
       "      <td>0.0</td>\n",
       "      <td>abandon</td>\n",
       "      <td>NaN</td>\n",
       "      <td>YES</td>\n",
       "      <td>0:00:14</td>\n",
       "    </tr>\n",
       "    <tr>\n",
       "      <th>...</th>\n",
       "      <td>...</td>\n",
       "      <td>...</td>\n",
       "      <td>...</td>\n",
       "      <td>...</td>\n",
       "      <td>...</td>\n",
       "      <td>...</td>\n",
       "      <td>...</td>\n",
       "      <td>...</td>\n",
       "      <td>...</td>\n",
       "      <td>...</td>\n",
       "      <td>...</td>\n",
       "      <td>...</td>\n",
       "      <td>...</td>\n",
       "    </tr>\n",
       "    <tr>\n",
       "      <th>108162</th>\n",
       "      <td>NaN</td>\n",
       "      <td>NaN</td>\n",
       "      <td>99715XXXXX</td>\n",
       "      <td>120</td>\n",
       "      <td>1/21/2022</td>\n",
       "      <td>10.0</td>\n",
       "      <td>10_11</td>\n",
       "      <td>0:00:00</td>\n",
       "      <td>0.0</td>\n",
       "      <td>abandon</td>\n",
       "      <td>NaN</td>\n",
       "      <td>YES</td>\n",
       "      <td>0:00:14</td>\n",
       "    </tr>\n",
       "    <tr>\n",
       "      <th>108395</th>\n",
       "      <td>NaN</td>\n",
       "      <td>NaN</td>\n",
       "      <td>90004XXXXX</td>\n",
       "      <td>120</td>\n",
       "      <td>1/21/2022</td>\n",
       "      <td>10.0</td>\n",
       "      <td>10_11</td>\n",
       "      <td>0:00:00</td>\n",
       "      <td>0.0</td>\n",
       "      <td>abandon</td>\n",
       "      <td>NaN</td>\n",
       "      <td>YES</td>\n",
       "      <td>0:00:20</td>\n",
       "    </tr>\n",
       "    <tr>\n",
       "      <th>108513</th>\n",
       "      <td>NaN</td>\n",
       "      <td>NaN</td>\n",
       "      <td>84090XXXXX</td>\n",
       "      <td>120</td>\n",
       "      <td>1/21/2022</td>\n",
       "      <td>11.0</td>\n",
       "      <td>11_12</td>\n",
       "      <td>0:00:00</td>\n",
       "      <td>0.0</td>\n",
       "      <td>abandon</td>\n",
       "      <td>NaN</td>\n",
       "      <td>YES</td>\n",
       "      <td>0:00:15</td>\n",
       "    </tr>\n",
       "    <tr>\n",
       "      <th>108714</th>\n",
       "      <td>NaN</td>\n",
       "      <td>NaN</td>\n",
       "      <td>90099XXXXX</td>\n",
       "      <td>120</td>\n",
       "      <td>1/21/2022</td>\n",
       "      <td>11.0</td>\n",
       "      <td>11_12</td>\n",
       "      <td>0:00:00</td>\n",
       "      <td>0.0</td>\n",
       "      <td>abandon</td>\n",
       "      <td>NaN</td>\n",
       "      <td>YES</td>\n",
       "      <td>0:00:14</td>\n",
       "    </tr>\n",
       "    <tr>\n",
       "      <th>114917</th>\n",
       "      <td>NaN</td>\n",
       "      <td>NaN</td>\n",
       "      <td>87621XXXXX</td>\n",
       "      <td>120</td>\n",
       "      <td>1/23/2022</td>\n",
       "      <td>9.0</td>\n",
       "      <td>9_10</td>\n",
       "      <td>0:00:00</td>\n",
       "      <td>0.0</td>\n",
       "      <td>abandon</td>\n",
       "      <td>NaN</td>\n",
       "      <td>YES</td>\n",
       "      <td>0:00:14</td>\n",
       "    </tr>\n",
       "  </tbody>\n",
       "</table>\n",
       "<p>941 rows × 13 columns</p>\n",
       "</div>"
      ],
      "text/plain": [
       "       Agent_Name  Agent_ID Customer_Phone_No  Queue_Time(Secs) Date_&_Time  \\\n",
       "42            NaN       NaN        87782XXXXX                16    1/1/2022   \n",
       "312           NaN       NaN        96336XXXXX               120    1/1/2022   \n",
       "4397          NaN       NaN        78499XXXXX               120    1/1/2022   \n",
       "4436          NaN       NaN        93589XXXXX               120    1/1/2022   \n",
       "4507          NaN       NaN        91779XXXXX               120    1/1/2022   \n",
       "...           ...       ...               ...               ...         ...   \n",
       "108162        NaN       NaN        99715XXXXX               120   1/21/2022   \n",
       "108395        NaN       NaN        90004XXXXX               120   1/21/2022   \n",
       "108513        NaN       NaN        84090XXXXX               120   1/21/2022   \n",
       "108714        NaN       NaN        90099XXXXX               120   1/21/2022   \n",
       "114917        NaN       NaN        87621XXXXX               120   1/23/2022   \n",
       "\n",
       "        Time Time_Bucket Duration(hh:mm:ss)  Call_Seconds (s) Call_Status  \\\n",
       "42       9.0        9_10            0:00:00               0.0     abandon   \n",
       "312      9.0        9_10            0:00:00               0.0     abandon   \n",
       "4397    20.0       20_21            0:00:00               0.0     abandon   \n",
       "4436    20.0       20_21            0:00:00               0.0     abandon   \n",
       "4507    20.0       20_21            0:00:00               0.0     abandon   \n",
       "...      ...         ...                ...               ...         ...   \n",
       "108162  10.0       10_11            0:00:00               0.0     abandon   \n",
       "108395  10.0       10_11            0:00:00               0.0     abandon   \n",
       "108513  11.0       11_12            0:00:00               0.0     abandon   \n",
       "108714  11.0       11_12            0:00:00               0.0     abandon   \n",
       "114917   9.0        9_10            0:00:00               0.0     abandon   \n",
       "\n",
       "       Wrapped _By Ringing IVR _Duration  \n",
       "42             NaN     YES       0:00:16  \n",
       "312            NaN     YES       0:00:14  \n",
       "4397           NaN     YES       0:00:17  \n",
       "4436           NaN     YES       0:00:14  \n",
       "4507           NaN     YES       0:00:14  \n",
       "...            ...     ...           ...  \n",
       "108162         NaN     YES       0:00:14  \n",
       "108395         NaN     YES       0:00:20  \n",
       "108513         NaN     YES       0:00:15  \n",
       "108714         NaN     YES       0:00:14  \n",
       "114917         NaN     YES       0:00:14  \n",
       "\n",
       "[941 rows x 13 columns]"
      ]
     },
     "execution_count": 7,
     "metadata": {},
     "output_type": "execute_result"
    }
   ],
   "source": [
    "abc_call[abc_call.duplicated()]"
   ]
  },
  {
   "cell_type": "code",
   "execution_count": 8,
   "metadata": {},
   "outputs": [],
   "source": [
    "abc_call.drop_duplicates(inplace = True)"
   ]
  },
  {
   "cell_type": "code",
   "execution_count": 9,
   "metadata": {},
   "outputs": [
    {
     "data": {
      "text/plain": [
       "(117047, 13)"
      ]
     },
     "execution_count": 9,
     "metadata": {},
     "output_type": "execute_result"
    }
   ],
   "source": [
    "abc_call.shape"
   ]
  },
  {
   "cell_type": "code",
   "execution_count": 10,
   "metadata": {},
   "outputs": [
    {
     "data": {
      "text/html": [
       "<div>\n",
       "<style scoped>\n",
       "    .dataframe tbody tr th:only-of-type {\n",
       "        vertical-align: middle;\n",
       "    }\n",
       "\n",
       "    .dataframe tbody tr th {\n",
       "        vertical-align: top;\n",
       "    }\n",
       "\n",
       "    .dataframe thead th {\n",
       "        text-align: right;\n",
       "    }\n",
       "</style>\n",
       "<table border=\"1\" class=\"dataframe\">\n",
       "  <thead>\n",
       "    <tr style=\"text-align: right;\">\n",
       "      <th></th>\n",
       "      <th>Null</th>\n",
       "    </tr>\n",
       "  </thead>\n",
       "  <tbody>\n",
       "    <tr>\n",
       "      <th>Wrapped _By</th>\n",
       "      <td>46936</td>\n",
       "    </tr>\n",
       "    <tr>\n",
       "      <th>Agent_Name</th>\n",
       "      <td>33257</td>\n",
       "    </tr>\n",
       "    <tr>\n",
       "      <th>Agent_ID</th>\n",
       "      <td>33257</td>\n",
       "    </tr>\n",
       "  </tbody>\n",
       "</table>\n",
       "</div>"
      ],
      "text/plain": [
       "              Null\n",
       "Wrapped _By  46936\n",
       "Agent_Name   33257\n",
       "Agent_ID     33257"
      ]
     },
     "execution_count": 10,
     "metadata": {},
     "output_type": "execute_result"
    }
   ],
   "source": [
    "null_col = pd.DataFrame()\n",
    "null_col['Null'] = abc_call.isnull().sum().sort_values(ascending = False)\n",
    "null_col = null_col[null_col['Null'] > 0]\n",
    "null_col"
   ]
  },
  {
   "cell_type": "code",
   "execution_count": 11,
   "metadata": {},
   "outputs": [
    {
     "data": {
      "text/plain": [
       "array([nan])"
      ]
     },
     "execution_count": 11,
     "metadata": {},
     "output_type": "execute_result"
    }
   ],
   "source": [
    "abc_call[abc_call['Agent_Name'].isna()]['Agent_ID'].unique()"
   ]
  },
  {
   "cell_type": "code",
   "execution_count": 12,
   "metadata": {},
   "outputs": [
    {
     "data": {
      "text/plain": [
       "array([nan], dtype=object)"
      ]
     },
     "execution_count": 12,
     "metadata": {},
     "output_type": "execute_result"
    }
   ],
   "source": [
    "abc_call[abc_call['Agent_ID'].isna()]['Agent_Name'].unique()"
   ]
  },
  {
   "cell_type": "code",
   "execution_count": 13,
   "metadata": {},
   "outputs": [
    {
     "data": {
      "text/plain": [
       "array([nan], dtype=object)"
      ]
     },
     "execution_count": 13,
     "metadata": {},
     "output_type": "execute_result"
    }
   ],
   "source": [
    "abc_call[abc_call['Agent_ID'].isna()]['Wrapped _By'].unique()"
   ]
  },
  {
   "cell_type": "code",
   "execution_count": 14,
   "metadata": {},
   "outputs": [
    {
     "data": {
      "text/plain": [
       "array(['abandon'], dtype=object)"
      ]
     },
     "execution_count": 14,
     "metadata": {},
     "output_type": "execute_result"
    }
   ],
   "source": [
    "abc_call[abc_call['Agent_ID'].isna()]['Call_Status'].unique()"
   ]
  },
  {
   "cell_type": "code",
   "execution_count": 15,
   "metadata": {},
   "outputs": [
    {
     "data": {
      "text/plain": [
       "array(['abandon', 'answered', 'transfer'], dtype=object)"
      ]
     },
     "execution_count": 15,
     "metadata": {},
     "output_type": "execute_result"
    }
   ],
   "source": [
    "abc_call[abc_call['Wrapped _By'].isna()]['Call_Status'].unique()"
   ]
  },
  {
   "cell_type": "code",
   "execution_count": 16,
   "metadata": {},
   "outputs": [
    {
     "data": {
      "text/plain": [
       "Agent          60396\n",
       "AutoWrapped     9715\n",
       "Name: Wrapped _By, dtype: int64"
      ]
     },
     "execution_count": 16,
     "metadata": {},
     "output_type": "execute_result"
    }
   ],
   "source": [
    "abc_call['Wrapped _By'].value_counts()"
   ]
  },
  {
   "cell_type": "code",
   "execution_count": 17,
   "metadata": {},
   "outputs": [],
   "source": [
    "abc_call[(abc_call['Wrapped _By'].isna()) & ((abc_call['Call_Status'] == 'answered') | \n",
    "                                             (abc_call['Call_Status'] == 'transfer'))].fillna(\"Agent\", inplace = True)"
   ]
  },
  {
   "cell_type": "code",
   "execution_count": 18,
   "metadata": {},
   "outputs": [],
   "source": [
    "abc_call.fillna('Not Available', inplace=True)"
   ]
  },
  {
   "cell_type": "code",
   "execution_count": 19,
   "metadata": {},
   "outputs": [
    {
     "data": {
      "text/plain": [
       "Agent_Name            0\n",
       "Agent_ID              0\n",
       "Customer_Phone_No     0\n",
       "Queue_Time(Secs)      0\n",
       "Date_&_Time           0\n",
       "Time                  0\n",
       "Time_Bucket           0\n",
       "Duration(hh:mm:ss)    0\n",
       "Call_Seconds (s)      0\n",
       "Call_Status           0\n",
       "Wrapped _By           0\n",
       "Ringing               0\n",
       "IVR _Duration         0\n",
       "dtype: int64"
      ]
     },
     "execution_count": 19,
     "metadata": {},
     "output_type": "execute_result"
    }
   ],
   "source": [
    "abc_call.isna().sum().sort_values(ascending = False)"
   ]
  },
  {
   "cell_type": "code",
   "execution_count": 20,
   "metadata": {},
   "outputs": [
    {
     "name": "stdout",
     "output_type": "stream",
     "text": [
      "['Agent_Name', 'Agent_ID', 'Customer_Phone_No', 'Date_&_Time', 'Time_Bucket', 'Duration(hh:mm:ss)', 'Call_Status', 'Wrapped _By', 'Ringing', 'IVR _Duration']\n",
      "Agent_Name \n",
      " ['Executives 42' 'Executives 4' 'Executives 65' 'Executives 55'\n",
      " 'Executives 21' 'Not Available' 'Executives 49' 'Executives 50'\n",
      " 'Executives 59' 'Executives 16' 'Executives 60' 'Executives 6'\n",
      " 'Executives 51' 'Executives 40' 'Executives 54' 'Executives 41'\n",
      " 'Executives 15' 'Executives 10' 'Executives 31' 'Executives 46'\n",
      " 'Executives 22' 'Executives 26' 'Executives 53' 'Executives 23'\n",
      " 'Executives 47' 'Executives 37' 'Executives 58' 'Executives 24'\n",
      " 'Executives 38' 'Executives 18' 'Executives 48' 'Executives 9'\n",
      " 'Executives 30' 'Executives 7' 'Executives 39' 'Executives 13'\n",
      " 'Executives 62' 'Executives 19' 'Executives 35' 'Executives 25'\n",
      " 'Executives 29' 'Executives 14' 'Executives 34' 'Executives 33'\n",
      " 'Executives 43' 'Executives 1' 'Executives 27' 'Executives 12'\n",
      " 'Executives 28' 'Executives 52' 'Executives 36' 'Executives 5'\n",
      " 'Executives 3' 'Executives 17' 'Executives 63' 'Executives 8'\n",
      " 'Executives 61' 'Executives 44' 'Executives 45' 'Executives 64'\n",
      " 'Executives 57' 'Executives 2' 'Executives 11' 'Executives 20'\n",
      " 'Executives 56' 'Executives 32']\n",
      "Agent_ID \n",
      " [1000042.0 1000004.0 1000065.0 1000055.0 1000021.0 'Not Available'\n",
      " 1000049.0 1000050.0 1000059.0 1000016.0 1000060.0 1000006.0 1000051.0\n",
      " 1000040.0 1000054.0 1000041.0 1000015.0 1000010.0 1000031.0 1000046.0\n",
      " 1000022.0 1000026.0 1000053.0 1000023.0 1000047.0 1000037.0 1000058.0\n",
      " 1000024.0 1000038.0 1000018.0 1000048.0 1000009.0 1000030.0 1000007.0\n",
      " 1000039.0 1000013.0 1000062.0 1000019.0 1000035.0 1000025.0 1000029.0\n",
      " 1000014.0 1000034.0 1000033.0 1000043.0 1000001.0 1000027.0 1000012.0\n",
      " 1000028.0 1000052.0 1000036.0 1000005.0 1000003.0 1000017.0 1000063.0\n",
      " 1000008.0 1000061.0 1000044.0 1000045.0 1000064.0 1000057.0 1000002.0\n",
      " 1000011.0 1000020.0 1000056.0 1000032.0]\n",
      "Customer_Phone_No \n",
      " ['98502XXXXX' '80595XXXXX' '70202XXXXX' ... '95511XXXXX' '62921XXXXX'\n",
      " '77184XXXXX']\n",
      "Date_&_Time \n",
      " ['1/1/2022' '1/2/2022' '1/3/2022' '1/4/2022' '1/5/2022' '1/6/2022'\n",
      " '1/7/2022' '1/8/2022' '1/9/2022' '1/10/2022' '1/11/2022' '1/12/2022'\n",
      " '1/13/2022' '1/14/2022' '1/15/2022' '1/16/2022' '1/17/2022' '1/18/2022'\n",
      " '1/19/2022' '1/20/2022' '1/21/2022' '1/22/2022' '1/23/2022']\n",
      "Time_Bucket \n",
      " ['9_10' '10_11' '11_12' '12_13' '13_14' '14_15' '15_16' '16_17' '17_18'\n",
      " '18_19' '19_20' '20_21']\n",
      "Duration(hh:mm:ss) \n",
      " ['0:01:36' '0:02:20' '0:01:25' ... '0:15:55' '0:19:45' '0:16:08']\n",
      "Call_Status \n",
      " ['answered' 'abandon' 'transfer']\n",
      "Wrapped _By \n",
      " ['Agent' 'AutoWrapped' 'Not Available']\n",
      "Ringing \n",
      " ['YES']\n",
      "IVR _Duration \n",
      " ['0:00:16' '0:00:26' '0:00:25' '0:00:23' '0:00:13' '0:00:17' '0:00:20'\n",
      " '0:00:44' '0:00:15' '0:00:40' '0:00:42' '0:00:19' '0:00:18' '0:00:48'\n",
      " '0:00:45' '0:00:21' '0:00:41' '0:00:46' '0:00:28' '0:00:39' '0:01:44'\n",
      " '0:00:49' '0:00:14' '0:00:24' '0:01:02' '0:00:54' '0:00:36' '0:00:22'\n",
      " '0:00:52' '0:00:12' '0:00:27' '0:01:09' '0:00:43' '0:00:11' '0:00:50'\n",
      " '0:00:00' '0:01:07' '0:01:06' '0:00:33' '0:00:51' '0:01:34' '0:01:10'\n",
      " '0:00:34' '0:01:17' '0:00:37' '0:00:47' '0:01:38' '0:01:12' '0:01:11'\n",
      " '0:00:57' '0:01:04' '0:00:53' '0:00:35' '0:00:38' '0:01:14' '0:01:37'\n",
      " '0:01:01' '0:01:16' '0:01:15' '0:01:35' '0:01:08' '0:01:33' '0:01:32'\n",
      " '0:00:59' '0:01:13' '0:01:58' '0:01:27' '0:02:08' '0:00:55' '0:01:24'\n",
      " '0:01:03' '0:01:40' '0:01:19' '0:02:55' '0:00:10' '0:01:05' '0:01:20'\n",
      " '0:00:08' '0:00:32' '0:00:56' '0:02:09' '0:03:18' '0:00:29' '0:01:00'\n",
      " '0:05:58' '0:01:59' '0:01:36' '0:01:43' '0:02:25' '0:01:31' '0:01:30'\n",
      " '0:01:41' '0:01:29' '0:03:16' '0:04:34' '0:01:18' '0:00:30' '0:02:48'\n",
      " '0:04:12' '0:02:06' '0:02:51' '0:01:51' '0:00:31' '0:01:45' '0:01:57'\n",
      " '0:01:26' '0:05:28' '0:01:23' '0:00:58' '0:02:53' '0:01:56' '0:02:03'\n",
      " '0:02:24' '0:01:42' '0:01:39' '0:02:21' '0:02:26' '0:02:01' '0:01:21'\n",
      " '0:02:07' '0:03:44' '0:03:42' '0:02:52' '0:02:59' '0:02:02' '0:01:25'\n",
      " '0:02:04' '0:02:00' '0:02:22' '0:00:09' '0:01:28' '0:01:22' '0:02:34'\n",
      " '0:02:23' '0:56:48' '0:01:55' '0:08:47' '0:02:30' '0:02:35' '0:01:47'\n",
      " '0:02:54' '0:05:12' '0:03:43' '0:03:45' '0:02:28' '0:02:32' '0:02:27'\n",
      " '0:02:29' '0:17:23' '0:02:57' '0:03:01' '0:05:25' '0:02:20' '0:01:48'\n",
      " '0:03:11' '0:02:45' '0:02:36' '0:06:15' '0:07:37' '0:04:58' '0:02:05'\n",
      " '0:01:53' '0:01:46' '0:10:10' '0:02:49' '0:10:09' '0:03:25' '0:03:39'\n",
      " '0:03:23' '0:09:27' '0:02:10' '0:03:17' '0:04:38' '0:04:03']\n",
      "Customer_Phone_No \n",
      " ['98502XXXXX' '80595XXXXX' '70202XXXXX' ... '95511XXXXX' '62921XXXXX'\n",
      " '77184XXXXX']\n",
      "Date_&_Time \n",
      " ['1/1/2022' '1/2/2022' '1/3/2022' '1/4/2022' '1/5/2022' '1/6/2022'\n",
      " '1/7/2022' '1/8/2022' '1/9/2022' '1/10/2022' '1/11/2022' '1/12/2022'\n",
      " '1/13/2022' '1/14/2022' '1/15/2022' '1/16/2022' '1/17/2022' '1/18/2022'\n",
      " '1/19/2022' '1/20/2022' '1/21/2022' '1/22/2022' '1/23/2022']\n",
      "Time_Bucket \n",
      " ['9_10' '10_11' '11_12' '12_13' '13_14' '14_15' '15_16' '16_17' '17_18'\n",
      " '18_19' '19_20' '20_21']\n",
      "Call_Status \n",
      " ['answered' 'abandon' 'transfer']\n",
      "Wrapped _By \n",
      " ['Agent' 'AutoWrapped' 'Not Available']\n",
      "Ringing \n",
      " ['YES']\n",
      "Duration(hh:mm:ss) (Hour) \n",
      " ['0' '1']\n",
      "Duration(hh:mm:ss) (Minute) \n",
      " ['00' '01' '02' '03' '04' '05' '06' '07' '08' '09' '10' '11' '12' '13'\n",
      " '14' '15' '16' '17' '18' '19' '20' '21' '22' '23' '24' '25' '26' '27'\n",
      " '28' '29' '30' '31' '32' '33' '34' '35' '36' '37' '38' '39' '40' '41'\n",
      " '43' '44' '47' '48' '52' '53']\n",
      "Duration(hh:mm:ss) (Second) \n",
      " ['00' '01' '02' '03' '04' '05' '06' '07' '08' '09' '10' '11' '12' '13'\n",
      " '14' '15' '16' '17' '18' '19' '20' '21' '22' '23' '24' '25' '26' '27'\n",
      " '28' '29' '30' '31' '32' '33' '34' '35' '36' '37' '38' '39' '40' '41'\n",
      " '42' '43' '44' '45' '46' '47' '48' '49' '50' '51' '52' '53' '54' '55'\n",
      " '56' '57' '58' '59']\n",
      "IVR _Duration (Hour) \n",
      " ['0']\n",
      "IVR _Duration (Minute) \n",
      " ['00' '01' '02' '03' '04' '05' '06' '07' '08' '09' '10' '17' '56']\n",
      "IVR _Duration (Second) \n",
      " ['00' '01' '02' '03' '04' '05' '06' '07' '08' '09' '10' '11' '12' '13'\n",
      " '14' '15' '16' '17' '18' '19' '20' '21' '22' '23' '24' '25' '26' '27'\n",
      " '28' '29' '30' '31' '32' '33' '34' '35' '36' '37' '38' '39' '40' '41'\n",
      " '42' '43' '44' '45' '46' '47' '48' '49' '50' '51' '52' '53' '54' '55'\n",
      " '56' '57' '58' '59']\n"
     ]
    }
   ],
   "source": [
    "obj_col = list(abc_call.dtypes[abc_call.dtypes == 'object'].index)\n",
    "print(obj_col)\n",
    "\n",
    "for col in obj_col:\n",
    "    print(col, '\\n', abc_call[col].unique())\n",
    "\n",
    "# Assuming abc_call is a DataFrame, you may want to replace 'df' with 'abc_call' in the remaining code\n",
    "for col in [obj_col[2], obj_col[3], obj_col[4], obj_col[6], obj_col[7], obj_col[8]]:\n",
    "    print(col, '\\n', abc_call[col].unique())\n",
    "\n",
    "print(obj_col[5], '(Hour)', '\\n', np.sort(pd.Series(abc_call[obj_col[5]].unique()).str.split(':').apply(lambda x: x[0]).unique()))\n",
    "print(obj_col[5], '(Minute)', '\\n', np.sort(pd.Series(abc_call[obj_col[5]].unique()).str.split(':').apply(lambda x: x[1]).unique()))\n",
    "print(obj_col[5], '(Second)', '\\n', np.sort(pd.Series(abc_call[obj_col[5]].unique()).str.split(':').apply(lambda x: x[2]).unique()))\n",
    "\n",
    "print(obj_col[9], '(Hour)','\\n', np.sort(pd.Series(abc_call[obj_col[9]].unique()).str.split(':').apply(lambda x : x[0]).unique()))\n",
    "print(obj_col[9], '(Minute)', '\\n', np.sort(pd.Series(abc_call[obj_col[9]].unique()).str.split(':').apply(lambda x: x[1]).unique()))\n",
    "print(obj_col[9], '(Second)', '\\n', np.sort(pd.Series(abc_call[obj_col[9]].unique()).str.split(':').apply(lambda x: x[2]).unique()))\n"
   ]
  },
  {
   "cell_type": "code",
   "execution_count": 21,
   "metadata": {},
   "outputs": [
    {
     "name": "stdout",
     "output_type": "stream",
     "text": [
      "Customer_Phone_No \n",
      " [10  5]\n"
     ]
    }
   ],
   "source": [
    "print(obj_col[2], '\\n', abc_call[obj_col[2]].apply(lambda x: len(x)).unique())"
   ]
  },
  {
   "cell_type": "code",
   "execution_count": 22,
   "metadata": {},
   "outputs": [
    {
     "data": {
      "text/html": [
       "<div>\n",
       "<style scoped>\n",
       "    .dataframe tbody tr th:only-of-type {\n",
       "        vertical-align: middle;\n",
       "    }\n",
       "\n",
       "    .dataframe tbody tr th {\n",
       "        vertical-align: top;\n",
       "    }\n",
       "\n",
       "    .dataframe thead th {\n",
       "        text-align: right;\n",
       "    }\n",
       "</style>\n",
       "<table border=\"1\" class=\"dataframe\">\n",
       "  <thead>\n",
       "    <tr style=\"text-align: right;\">\n",
       "      <th></th>\n",
       "      <th>Agent_Name</th>\n",
       "      <th>Agent_ID</th>\n",
       "      <th>Customer_Phone_No</th>\n",
       "      <th>Queue_Time(Secs)</th>\n",
       "      <th>Date_&amp;_Time</th>\n",
       "      <th>Time</th>\n",
       "      <th>Time_Bucket</th>\n",
       "      <th>Duration(hh:mm:ss)</th>\n",
       "      <th>Call_Seconds (s)</th>\n",
       "      <th>Call_Status</th>\n",
       "      <th>Wrapped _By</th>\n",
       "      <th>Ringing</th>\n",
       "      <th>IVR _Duration</th>\n",
       "    </tr>\n",
       "  </thead>\n",
       "  <tbody>\n",
       "    <tr>\n",
       "      <th>104000</th>\n",
       "      <td>Not Available</td>\n",
       "      <td>Not Available</td>\n",
       "      <td>XXXXX</td>\n",
       "      <td>120</td>\n",
       "      <td>1/20/2022</td>\n",
       "      <td>10.0</td>\n",
       "      <td>10_11</td>\n",
       "      <td>0:00:00</td>\n",
       "      <td>0.0</td>\n",
       "      <td>abandon</td>\n",
       "      <td>Not Available</td>\n",
       "      <td>YES</td>\n",
       "      <td>0:00:15</td>\n",
       "    </tr>\n",
       "  </tbody>\n",
       "</table>\n",
       "</div>"
      ],
      "text/plain": [
       "           Agent_Name       Agent_ID Customer_Phone_No  Queue_Time(Secs)  \\\n",
       "104000  Not Available  Not Available             XXXXX               120   \n",
       "\n",
       "       Date_&_Time  Time Time_Bucket Duration(hh:mm:ss)  Call_Seconds (s)  \\\n",
       "104000   1/20/2022  10.0       10_11            0:00:00               0.0   \n",
       "\n",
       "       Call_Status    Wrapped _By Ringing IVR _Duration  \n",
       "104000     abandon  Not Available     YES       0:00:15  "
      ]
     },
     "execution_count": 22,
     "metadata": {},
     "output_type": "execute_result"
    }
   ],
   "source": [
    "abc_call[abc_call[obj_col[2]].apply(lambda x: len(x))==5]"
   ]
  },
  {
   "cell_type": "code",
   "execution_count": 23,
   "metadata": {},
   "outputs": [],
   "source": [
    "abc_call[obj_col[2]].loc[104000] = 'XXXXXXXXXX'"
   ]
  },
  {
   "cell_type": "code",
   "execution_count": 24,
   "metadata": {},
   "outputs": [
    {
     "data": {
      "text/html": [
       "<div>\n",
       "<style scoped>\n",
       "    .dataframe tbody tr th:only-of-type {\n",
       "        vertical-align: middle;\n",
       "    }\n",
       "\n",
       "    .dataframe tbody tr th {\n",
       "        vertical-align: top;\n",
       "    }\n",
       "\n",
       "    .dataframe thead th {\n",
       "        text-align: right;\n",
       "    }\n",
       "</style>\n",
       "<table border=\"1\" class=\"dataframe\">\n",
       "  <thead>\n",
       "    <tr style=\"text-align: right;\">\n",
       "      <th></th>\n",
       "      <th>Queue_Time(Secs)</th>\n",
       "      <th>Time</th>\n",
       "      <th>Call_Seconds (s)</th>\n",
       "    </tr>\n",
       "  </thead>\n",
       "  <tbody>\n",
       "    <tr>\n",
       "      <th>0</th>\n",
       "      <td>2</td>\n",
       "      <td>9.0</td>\n",
       "      <td>96.0</td>\n",
       "    </tr>\n",
       "    <tr>\n",
       "      <th>1</th>\n",
       "      <td>0</td>\n",
       "      <td>9.0</td>\n",
       "      <td>140.0</td>\n",
       "    </tr>\n",
       "    <tr>\n",
       "      <th>2</th>\n",
       "      <td>0</td>\n",
       "      <td>9.0</td>\n",
       "      <td>85.0</td>\n",
       "    </tr>\n",
       "    <tr>\n",
       "      <th>3</th>\n",
       "      <td>1</td>\n",
       "      <td>9.0</td>\n",
       "      <td>91.0</td>\n",
       "    </tr>\n",
       "    <tr>\n",
       "      <th>4</th>\n",
       "      <td>0</td>\n",
       "      <td>9.0</td>\n",
       "      <td>165.0</td>\n",
       "    </tr>\n",
       "  </tbody>\n",
       "</table>\n",
       "</div>"
      ],
      "text/plain": [
       "   Queue_Time(Secs)  Time  Call_Seconds (s)\n",
       "0                 2   9.0              96.0\n",
       "1                 0   9.0             140.0\n",
       "2                 0   9.0              85.0\n",
       "3                 1   9.0              91.0\n",
       "4                 0   9.0             165.0"
      ]
     },
     "execution_count": 24,
     "metadata": {},
     "output_type": "execute_result"
    }
   ],
   "source": [
    "num_col = abc_call.select_dtypes(exclude = 'object')\n",
    "num_col.head()"
   ]
  },
  {
   "cell_type": "code",
   "execution_count": 25,
   "metadata": {},
   "outputs": [
    {
     "data": {
      "image/png": "[encoded data removed]",
      "text/plain": [
       "<Figure size 1500x100 with 1 Axes>"
      ]
     },
     "metadata": {},
     "output_type": "display_data"
    }
   ],
   "source": [
    "figure, axs = plt.subplots(1,1, figsize = (15,1))\n",
    "sns.boxplot(num_col['Queue_Time(Secs)'], orient = 'h', ax = axs)\n",
    "axs.set_xticks(np.arange(0, 140, 10))\n",
    "axs.tick_params(axis='x', pad=5, length=0, labelsize=8)\n",
    "axs.set_xlabel('Queue_Time(Secs)')\n",
    "axs.grid(axis='y', alpha=0.4)\n",
    "axs.grid(axis='x', alpha=0.4)\n",
    "axs.set_axisbelow(True)\n",
    "plt.show()"
   ]
  },
  {
   "cell_type": "code",
   "execution_count": 26,
   "metadata": {},
   "outputs": [
    {
     "name": "stdout",
     "output_type": "stream",
     "text": [
      "Time [ 9. 10. 11. 12. 13. 14. 15. 16. 17. 18. 19. 20. 21.]\n"
     ]
    }
   ],
   "source": [
    "print(num_col.columns[1], num_col['Time'].unique())"
   ]
  },
  {
   "cell_type": "code",
   "execution_count": 27,
   "metadata": {},
   "outputs": [
    {
     "data": {
      "image/png": "[encoded data removed]",
      "text/plain": [
       "<Figure size 1500x100 with 1 Axes>"
      ]
     },
     "metadata": {},
     "output_type": "display_data"
    }
   ],
   "source": [
    "figure,axs = plt.subplots(1,1, figsize=(15,1))\n",
    "sns.boxplot(num_col['Call_Seconds (s)'], orient='h', ax=axs)\n",
    "axs.set_xticks(np.arange(0, 4000, 100))\n",
    "axs.tick_params(axis='x', pad=5, length=0, labelsize=8, rotation=90)\n",
    "axs.set_xlabel(num_col.columns[2])\n",
    "axs.grid(axis='y', alpha=0.4)\n",
    "axs.grid(axis='x', alpha=0.4)\n",
    "axs.set_axisbelow(True)\n",
    "plt.show()"
   ]
  },
  {
   "cell_type": "code",
   "execution_count": 28,
   "metadata": {},
   "outputs": [
    {
     "data": {
      "text/html": [
       "<div>\n",
       "<style scoped>\n",
       "    .dataframe tbody tr th:only-of-type {\n",
       "        vertical-align: middle;\n",
       "    }\n",
       "\n",
       "    .dataframe tbody tr th {\n",
       "        vertical-align: top;\n",
       "    }\n",
       "\n",
       "    .dataframe thead th {\n",
       "        text-align: right;\n",
       "    }\n",
       "</style>\n",
       "<table border=\"1\" class=\"dataframe\">\n",
       "  <thead>\n",
       "    <tr style=\"text-align: right;\">\n",
       "      <th></th>\n",
       "      <th>Agent_Name</th>\n",
       "      <th>Agent_ID</th>\n",
       "      <th>Customer_Phone_No</th>\n",
       "      <th>Queue_Time(Secs)</th>\n",
       "      <th>Date_&amp;_Time</th>\n",
       "      <th>Time</th>\n",
       "      <th>Time_Bucket</th>\n",
       "      <th>Duration(hh:mm:ss)</th>\n",
       "      <th>Call_Seconds (s)</th>\n",
       "      <th>Call_Status</th>\n",
       "      <th>Wrapped _By</th>\n",
       "      <th>Ringing</th>\n",
       "      <th>IVR _Duration</th>\n",
       "    </tr>\n",
       "  </thead>\n",
       "  <tbody>\n",
       "    <tr>\n",
       "      <th>49457</th>\n",
       "      <td>Executives 10</td>\n",
       "      <td>1000010.0</td>\n",
       "      <td>79084XXXXX</td>\n",
       "      <td>4</td>\n",
       "      <td>1/11/2022</td>\n",
       "      <td>17.0</td>\n",
       "      <td>17_18</td>\n",
       "      <td>1:04:32</td>\n",
       "      <td>3872.0</td>\n",
       "      <td>answered</td>\n",
       "      <td>Agent</td>\n",
       "      <td>YES</td>\n",
       "      <td>0:00:24</td>\n",
       "    </tr>\n",
       "    <tr>\n",
       "      <th>49844</th>\n",
       "      <td>Executives 43</td>\n",
       "      <td>1000043.0</td>\n",
       "      <td>98961XXXXX</td>\n",
       "      <td>13</td>\n",
       "      <td>1/11/2022</td>\n",
       "      <td>18.0</td>\n",
       "      <td>18_19</td>\n",
       "      <td>0:52:29</td>\n",
       "      <td>3149.0</td>\n",
       "      <td>answered</td>\n",
       "      <td>Agent</td>\n",
       "      <td>YES</td>\n",
       "      <td>0:00:14</td>\n",
       "    </tr>\n",
       "    <tr>\n",
       "      <th>52597</th>\n",
       "      <td>Executives 5</td>\n",
       "      <td>1000005.0</td>\n",
       "      <td>98800XXXXX</td>\n",
       "      <td>24</td>\n",
       "      <td>1/12/2022</td>\n",
       "      <td>13.0</td>\n",
       "      <td>13_14</td>\n",
       "      <td>0:53:05</td>\n",
       "      <td>3185.0</td>\n",
       "      <td>answered</td>\n",
       "      <td>Agent</td>\n",
       "      <td>YES</td>\n",
       "      <td>0:00:13</td>\n",
       "    </tr>\n",
       "    <tr>\n",
       "      <th>91887</th>\n",
       "      <td>Executives 39</td>\n",
       "      <td>1000039.0</td>\n",
       "      <td>97648XXXXX</td>\n",
       "      <td>108</td>\n",
       "      <td>1/17/2022</td>\n",
       "      <td>18.0</td>\n",
       "      <td>18_19</td>\n",
       "      <td>0:53:39</td>\n",
       "      <td>3219.0</td>\n",
       "      <td>answered</td>\n",
       "      <td>AutoWrapped</td>\n",
       "      <td>YES</td>\n",
       "      <td>0:00:24</td>\n",
       "    </tr>\n",
       "  </tbody>\n",
       "</table>\n",
       "</div>"
      ],
      "text/plain": [
       "          Agent_Name   Agent_ID Customer_Phone_No  Queue_Time(Secs)  \\\n",
       "49457  Executives 10  1000010.0        79084XXXXX                 4   \n",
       "49844  Executives 43  1000043.0        98961XXXXX                13   \n",
       "52597   Executives 5  1000005.0        98800XXXXX                24   \n",
       "91887  Executives 39  1000039.0        97648XXXXX               108   \n",
       "\n",
       "      Date_&_Time  Time Time_Bucket Duration(hh:mm:ss)  Call_Seconds (s)  \\\n",
       "49457   1/11/2022  17.0       17_18            1:04:32            3872.0   \n",
       "49844   1/11/2022  18.0       18_19            0:52:29            3149.0   \n",
       "52597   1/12/2022  13.0       13_14            0:53:05            3185.0   \n",
       "91887   1/17/2022  18.0       18_19            0:53:39            3219.0   \n",
       "\n",
       "      Call_Status  Wrapped _By Ringing IVR _Duration  \n",
       "49457    answered        Agent     YES       0:00:24  \n",
       "49844    answered        Agent     YES       0:00:14  \n",
       "52597    answered        Agent     YES       0:00:13  \n",
       "91887    answered  AutoWrapped     YES       0:00:24  "
      ]
     },
     "execution_count": 28,
     "metadata": {},
     "output_type": "execute_result"
    }
   ],
   "source": [
    "abc_call[abc_call['Call_Seconds (s)'] > 3000]"
   ]
  },
  {
   "cell_type": "code",
   "execution_count": 29,
   "metadata": {},
   "outputs": [],
   "source": [
    "dur_sec = pd.Series(abc_call['Duration(hh:mm:ss)']).str.split(':').apply(lambda x: sum([a*b for a,b in zip([3600,60,1], map(int, x))]))\n",
    "call_sec = abc_call['Call_Seconds (s)']"
   ]
  },
  {
   "cell_type": "code",
   "execution_count": 30,
   "metadata": {},
   "outputs": [
    {
     "data": {
      "text/html": [
       "<div>\n",
       "<style scoped>\n",
       "    .dataframe tbody tr th:only-of-type {\n",
       "        vertical-align: middle;\n",
       "    }\n",
       "\n",
       "    .dataframe tbody tr th {\n",
       "        vertical-align: top;\n",
       "    }\n",
       "\n",
       "    .dataframe thead th {\n",
       "        text-align: right;\n",
       "    }\n",
       "</style>\n",
       "<table border=\"1\" class=\"dataframe\">\n",
       "  <thead>\n",
       "    <tr style=\"text-align: right;\">\n",
       "      <th></th>\n",
       "      <th>Agent_Name</th>\n",
       "      <th>Agent_ID</th>\n",
       "      <th>Customer_Phone_No</th>\n",
       "      <th>Queue_Time(Secs)</th>\n",
       "      <th>Date_&amp;_Time</th>\n",
       "      <th>Time</th>\n",
       "      <th>Time_Bucket</th>\n",
       "      <th>Duration(hh:mm:ss)</th>\n",
       "      <th>Call_Seconds (s)</th>\n",
       "      <th>Call_Status</th>\n",
       "      <th>Wrapped _By</th>\n",
       "      <th>Ringing</th>\n",
       "      <th>IVR _Duration</th>\n",
       "    </tr>\n",
       "  </thead>\n",
       "  <tbody>\n",
       "  </tbody>\n",
       "</table>\n",
       "</div>"
      ],
      "text/plain": [
       "Empty DataFrame\n",
       "Columns: [Agent_Name, Agent_ID, Customer_Phone_No, Queue_Time(Secs), Date_&_Time, Time, Time_Bucket, Duration(hh:mm:ss), Call_Seconds (s), Call_Status, Wrapped _By, Ringing, IVR _Duration]\n",
       "Index: []"
      ]
     },
     "execution_count": 30,
     "metadata": {},
     "output_type": "execute_result"
    }
   ],
   "source": [
    "abc_call[(dur_sec - call_sec) != 0.0 ]"
   ]
  },
  {
   "cell_type": "code",
   "execution_count": 31,
   "metadata": {},
   "outputs": [
    {
     "data": {
      "text/plain": [
       "array(['answered', 'abandon', 'transfer'], dtype=object)"
      ]
     },
     "execution_count": 31,
     "metadata": {},
     "output_type": "execute_result"
    }
   ],
   "source": [
    "abc_call['Call_Status'].unique()"
   ]
  },
  {
   "cell_type": "code",
   "execution_count": 32,
   "metadata": {},
   "outputs": [
    {
     "data": {
      "text/plain": [
       "array([0.])"
      ]
     },
     "execution_count": 32,
     "metadata": {},
     "output_type": "execute_result"
    }
   ],
   "source": [
    "abc_call[abc_call['Call_Status'] == 'abandon']['Call_Seconds (s)'].unique()"
   ]
  },
  {
   "cell_type": "code",
   "execution_count": 33,
   "metadata": {},
   "outputs": [
    {
     "data": {
      "text/plain": [
       "array(['Not Available'], dtype=object)"
      ]
     },
     "execution_count": 33,
     "metadata": {},
     "output_type": "execute_result"
    }
   ],
   "source": [
    "abc_call[abc_call['Call_Status'] == 'abandon']['Wrapped _By'].unique()"
   ]
  },
  {
   "cell_type": "code",
   "execution_count": 34,
   "metadata": {},
   "outputs": [
    {
     "data": {
      "text/html": [
       "<div>\n",
       "<style scoped>\n",
       "    .dataframe tbody tr th:only-of-type {\n",
       "        vertical-align: middle;\n",
       "    }\n",
       "\n",
       "    .dataframe tbody tr th {\n",
       "        vertical-align: top;\n",
       "    }\n",
       "\n",
       "    .dataframe thead th {\n",
       "        text-align: right;\n",
       "    }\n",
       "</style>\n",
       "<table border=\"1\" class=\"dataframe\">\n",
       "  <thead>\n",
       "    <tr style=\"text-align: right;\">\n",
       "      <th>Call_Status</th>\n",
       "      <th>Agent_ID</th>\n",
       "      <th>abandon</th>\n",
       "      <th>received</th>\n",
       "    </tr>\n",
       "  </thead>\n",
       "  <tbody>\n",
       "    <tr>\n",
       "      <th>1</th>\n",
       "      <td>1000002.0</td>\n",
       "      <td>1.0</td>\n",
       "      <td>0.0</td>\n",
       "    </tr>\n",
       "    <tr>\n",
       "      <th>10</th>\n",
       "      <td>1000011.0</td>\n",
       "      <td>1.0</td>\n",
       "      <td>0.0</td>\n",
       "    </tr>\n",
       "    <tr>\n",
       "      <th>13</th>\n",
       "      <td>1000014.0</td>\n",
       "      <td>1.0</td>\n",
       "      <td>0.0</td>\n",
       "    </tr>\n",
       "    <tr>\n",
       "      <th>43</th>\n",
       "      <td>1000044.0</td>\n",
       "      <td>1.0</td>\n",
       "      <td>0.0</td>\n",
       "    </tr>\n",
       "    <tr>\n",
       "      <th>44</th>\n",
       "      <td>1000045.0</td>\n",
       "      <td>1.0</td>\n",
       "      <td>0.0</td>\n",
       "    </tr>\n",
       "    <tr>\n",
       "      <th>56</th>\n",
       "      <td>1000057.0</td>\n",
       "      <td>1.0</td>\n",
       "      <td>0.0</td>\n",
       "    </tr>\n",
       "    <tr>\n",
       "      <th>63</th>\n",
       "      <td>1000064.0</td>\n",
       "      <td>1.0</td>\n",
       "      <td>0.0</td>\n",
       "    </tr>\n",
       "    <tr>\n",
       "      <th>65</th>\n",
       "      <td>Not Available</td>\n",
       "      <td>33257.0</td>\n",
       "      <td>0.0</td>\n",
       "    </tr>\n",
       "  </tbody>\n",
       "</table>\n",
       "</div>"
      ],
      "text/plain": [
       "Call_Status       Agent_ID  abandon  received\n",
       "1                1000002.0      1.0       0.0\n",
       "10               1000011.0      1.0       0.0\n",
       "13               1000014.0      1.0       0.0\n",
       "43               1000044.0      1.0       0.0\n",
       "44               1000045.0      1.0       0.0\n",
       "56               1000057.0      1.0       0.0\n",
       "63               1000064.0      1.0       0.0\n",
       "65           Not Available  33257.0       0.0"
      ]
     },
     "execution_count": 34,
     "metadata": {},
     "output_type": "execute_result"
    }
   ],
   "source": [
    "group = abc_call.groupby('Agent_ID')['Call_Status'].value_counts().unstack().reset_index()\n",
    "group.fillna(0, inplace = True)\n",
    "group['received'] = group['answered'] + group['transfer']\n",
    "group.drop(['answered', 'transfer'], axis = 1, inplace = True)\n",
    "group = group[group['received'] == 0.0]\n",
    "group"
   ]
  },
  {
   "cell_type": "code",
   "execution_count": 35,
   "metadata": {},
   "outputs": [],
   "source": [
    "ag_id = list(group['Agent_ID'].values[:-1])\n",
    "ag_nm = [abc_call[abc_call['Agent_ID'] == i] ['Agent_Name'].values[0] for i in ag_id]\n",
    "abc_call['Agent_ID'].replace(ag_id, 'Not Available', inplace = True)\n",
    "abc_call['Agent_Name'].replace(ag_nm, \"Not Available\", inplace = True)"
   ]
  },
  {
   "cell_type": "code",
   "execution_count": 36,
   "metadata": {},
   "outputs": [
    {
     "data": {
      "text/html": [
       "<div>\n",
       "<style scoped>\n",
       "    .dataframe tbody tr th:only-of-type {\n",
       "        vertical-align: middle;\n",
       "    }\n",
       "\n",
       "    .dataframe tbody tr th {\n",
       "        vertical-align: top;\n",
       "    }\n",
       "\n",
       "    .dataframe thead th {\n",
       "        text-align: right;\n",
       "    }\n",
       "</style>\n",
       "<table border=\"1\" class=\"dataframe\">\n",
       "  <thead>\n",
       "    <tr style=\"text-align: right;\">\n",
       "      <th></th>\n",
       "      <th>Agent_Name</th>\n",
       "      <th>Agent_ID</th>\n",
       "      <th>Customer_Phone_No</th>\n",
       "      <th>Queue_Time(Secs)</th>\n",
       "      <th>Date_&amp;_Time</th>\n",
       "      <th>Time</th>\n",
       "      <th>Time_Bucket</th>\n",
       "      <th>Duration(hh:mm:ss)</th>\n",
       "      <th>Call_Seconds (s)</th>\n",
       "      <th>Call_Status</th>\n",
       "      <th>Wrapped _By</th>\n",
       "      <th>Ringing</th>\n",
       "      <th>IVR _Duration</th>\n",
       "    </tr>\n",
       "  </thead>\n",
       "  <tbody>\n",
       "    <tr>\n",
       "      <th>0</th>\n",
       "      <td>Executives 42</td>\n",
       "      <td>1000042.0</td>\n",
       "      <td>98502XXXXX</td>\n",
       "      <td>2</td>\n",
       "      <td>1/1/2022</td>\n",
       "      <td>9.0</td>\n",
       "      <td>9_10</td>\n",
       "      <td>0:01:36</td>\n",
       "      <td>96.0</td>\n",
       "      <td>answered</td>\n",
       "      <td>Agent</td>\n",
       "      <td>YES</td>\n",
       "      <td>0:00:16</td>\n",
       "    </tr>\n",
       "    <tr>\n",
       "      <th>1</th>\n",
       "      <td>Executives 4</td>\n",
       "      <td>1000004.0</td>\n",
       "      <td>80595XXXXX</td>\n",
       "      <td>0</td>\n",
       "      <td>1/1/2022</td>\n",
       "      <td>9.0</td>\n",
       "      <td>9_10</td>\n",
       "      <td>0:02:20</td>\n",
       "      <td>140.0</td>\n",
       "      <td>answered</td>\n",
       "      <td>Agent</td>\n",
       "      <td>YES</td>\n",
       "      <td>0:00:26</td>\n",
       "    </tr>\n",
       "    <tr>\n",
       "      <th>2</th>\n",
       "      <td>Executives 65</td>\n",
       "      <td>1000065.0</td>\n",
       "      <td>70202XXXXX</td>\n",
       "      <td>0</td>\n",
       "      <td>1/1/2022</td>\n",
       "      <td>9.0</td>\n",
       "      <td>9_10</td>\n",
       "      <td>0:01:25</td>\n",
       "      <td>85.0</td>\n",
       "      <td>answered</td>\n",
       "      <td>AutoWrapped</td>\n",
       "      <td>YES</td>\n",
       "      <td>0:00:16</td>\n",
       "    </tr>\n",
       "    <tr>\n",
       "      <th>3</th>\n",
       "      <td>Executives 55</td>\n",
       "      <td>1000055.0</td>\n",
       "      <td>96104XXXXX</td>\n",
       "      <td>1</td>\n",
       "      <td>1/1/2022</td>\n",
       "      <td>9.0</td>\n",
       "      <td>9_10</td>\n",
       "      <td>0:01:31</td>\n",
       "      <td>91.0</td>\n",
       "      <td>answered</td>\n",
       "      <td>Agent</td>\n",
       "      <td>YES</td>\n",
       "      <td>0:00:25</td>\n",
       "    </tr>\n",
       "    <tr>\n",
       "      <th>4</th>\n",
       "      <td>Executives 21</td>\n",
       "      <td>1000021.0</td>\n",
       "      <td>82001XXXXX</td>\n",
       "      <td>0</td>\n",
       "      <td>1/1/2022</td>\n",
       "      <td>9.0</td>\n",
       "      <td>9_10</td>\n",
       "      <td>0:02:45</td>\n",
       "      <td>165.0</td>\n",
       "      <td>answered</td>\n",
       "      <td>Agent</td>\n",
       "      <td>YES</td>\n",
       "      <td>0:00:23</td>\n",
       "    </tr>\n",
       "  </tbody>\n",
       "</table>\n",
       "</div>"
      ],
      "text/plain": [
       "      Agent_Name   Agent_ID Customer_Phone_No  Queue_Time(Secs) Date_&_Time  \\\n",
       "0  Executives 42  1000042.0        98502XXXXX                 2    1/1/2022   \n",
       "1   Executives 4  1000004.0        80595XXXXX                 0    1/1/2022   \n",
       "2  Executives 65  1000065.0        70202XXXXX                 0    1/1/2022   \n",
       "3  Executives 55  1000055.0        96104XXXXX                 1    1/1/2022   \n",
       "4  Executives 21  1000021.0        82001XXXXX                 0    1/1/2022   \n",
       "\n",
       "   Time Time_Bucket Duration(hh:mm:ss)  Call_Seconds (s) Call_Status  \\\n",
       "0   9.0        9_10            0:01:36              96.0    answered   \n",
       "1   9.0        9_10            0:02:20             140.0    answered   \n",
       "2   9.0        9_10            0:01:25              85.0    answered   \n",
       "3   9.0        9_10            0:01:31              91.0    answered   \n",
       "4   9.0        9_10            0:02:45             165.0    answered   \n",
       "\n",
       "   Wrapped _By Ringing IVR _Duration  \n",
       "0        Agent     YES       0:00:16  \n",
       "1        Agent     YES       0:00:26  \n",
       "2  AutoWrapped     YES       0:00:16  \n",
       "3        Agent     YES       0:00:25  \n",
       "4        Agent     YES       0:00:23  "
      ]
     },
     "execution_count": 36,
     "metadata": {},
     "output_type": "execute_result"
    }
   ],
   "source": [
    "abc_call.head()"
   ]
  },
  {
   "cell_type": "code",
   "execution_count": 47,
   "metadata": {},
   "outputs": [],
   "source": [
    "abc_call['Date_&_Time'] = pd.to_datetime(abc_call['Date_&_Time'])"
   ]
  },
  {
   "cell_type": "code",
   "execution_count": 48,
   "metadata": {},
   "outputs": [
    {
     "data": {
      "text/plain": [
       "Agent_Name                    object\n",
       "Agent_ID                      object\n",
       "Customer_Phone_No             object\n",
       "Queue_Time(Secs)               int64\n",
       "Date_&_Time           datetime64[ns]\n",
       "Time                         float64\n",
       "Time_Bucket                   object\n",
       "Duration(hh:mm:ss)            object\n",
       "Call_Seconds (s)             float64\n",
       "Call_Status                   object\n",
       "Wrapped _By                   object\n",
       "Ringing                       object\n",
       "IVR _Duration                 object\n",
       "dtype: object"
      ]
     },
     "execution_count": 48,
     "metadata": {},
     "output_type": "execute_result"
    }
   ],
   "source": [
    "abc_call.dtypes"
   ]
  },
  {
   "cell_type": "code",
   "execution_count": 49,
   "metadata": {},
   "outputs": [
    {
     "data": {
      "text/html": [
       "<div>\n",
       "<style scoped>\n",
       "    .dataframe tbody tr th:only-of-type {\n",
       "        vertical-align: middle;\n",
       "    }\n",
       "\n",
       "    .dataframe tbody tr th {\n",
       "        vertical-align: top;\n",
       "    }\n",
       "\n",
       "    .dataframe thead th {\n",
       "        text-align: right;\n",
       "    }\n",
       "</style>\n",
       "<table border=\"1\" class=\"dataframe\">\n",
       "  <thead>\n",
       "    <tr style=\"text-align: right;\">\n",
       "      <th></th>\n",
       "      <th>Agent_Name</th>\n",
       "      <th>Agent_ID</th>\n",
       "      <th>Customer_Phone_No</th>\n",
       "      <th>Queue_Time(Secs)</th>\n",
       "      <th>Date_&amp;_Time</th>\n",
       "      <th>Time</th>\n",
       "      <th>Time_Bucket</th>\n",
       "      <th>Duration(hh:mm:ss)</th>\n",
       "      <th>Call_Seconds (s)</th>\n",
       "      <th>Call_Status</th>\n",
       "      <th>Wrapped _By</th>\n",
       "      <th>Ringing</th>\n",
       "      <th>IVR _Duration</th>\n",
       "    </tr>\n",
       "  </thead>\n",
       "  <tbody>\n",
       "    <tr>\n",
       "      <th>0</th>\n",
       "      <td>Executives 42</td>\n",
       "      <td>1000042.0</td>\n",
       "      <td>98502XXXXX</td>\n",
       "      <td>2</td>\n",
       "      <td>2022-01-01</td>\n",
       "      <td>9.0</td>\n",
       "      <td>9_10</td>\n",
       "      <td>0:01:36</td>\n",
       "      <td>96.0</td>\n",
       "      <td>answered</td>\n",
       "      <td>Agent</td>\n",
       "      <td>YES</td>\n",
       "      <td>0:00:16</td>\n",
       "    </tr>\n",
       "    <tr>\n",
       "      <th>1</th>\n",
       "      <td>Executives 4</td>\n",
       "      <td>1000004.0</td>\n",
       "      <td>80595XXXXX</td>\n",
       "      <td>0</td>\n",
       "      <td>2022-01-01</td>\n",
       "      <td>9.0</td>\n",
       "      <td>9_10</td>\n",
       "      <td>0:02:20</td>\n",
       "      <td>140.0</td>\n",
       "      <td>answered</td>\n",
       "      <td>Agent</td>\n",
       "      <td>YES</td>\n",
       "      <td>0:00:26</td>\n",
       "    </tr>\n",
       "    <tr>\n",
       "      <th>2</th>\n",
       "      <td>Executives 65</td>\n",
       "      <td>1000065.0</td>\n",
       "      <td>70202XXXXX</td>\n",
       "      <td>0</td>\n",
       "      <td>2022-01-01</td>\n",
       "      <td>9.0</td>\n",
       "      <td>9_10</td>\n",
       "      <td>0:01:25</td>\n",
       "      <td>85.0</td>\n",
       "      <td>answered</td>\n",
       "      <td>AutoWrapped</td>\n",
       "      <td>YES</td>\n",
       "      <td>0:00:16</td>\n",
       "    </tr>\n",
       "    <tr>\n",
       "      <th>3</th>\n",
       "      <td>Executives 55</td>\n",
       "      <td>1000055.0</td>\n",
       "      <td>96104XXXXX</td>\n",
       "      <td>1</td>\n",
       "      <td>2022-01-01</td>\n",
       "      <td>9.0</td>\n",
       "      <td>9_10</td>\n",
       "      <td>0:01:31</td>\n",
       "      <td>91.0</td>\n",
       "      <td>answered</td>\n",
       "      <td>Agent</td>\n",
       "      <td>YES</td>\n",
       "      <td>0:00:25</td>\n",
       "    </tr>\n",
       "    <tr>\n",
       "      <th>4</th>\n",
       "      <td>Executives 21</td>\n",
       "      <td>1000021.0</td>\n",
       "      <td>82001XXXXX</td>\n",
       "      <td>0</td>\n",
       "      <td>2022-01-01</td>\n",
       "      <td>9.0</td>\n",
       "      <td>9_10</td>\n",
       "      <td>0:02:45</td>\n",
       "      <td>165.0</td>\n",
       "      <td>answered</td>\n",
       "      <td>Agent</td>\n",
       "      <td>YES</td>\n",
       "      <td>0:00:23</td>\n",
       "    </tr>\n",
       "    <tr>\n",
       "      <th>...</th>\n",
       "      <td>...</td>\n",
       "      <td>...</td>\n",
       "      <td>...</td>\n",
       "      <td>...</td>\n",
       "      <td>...</td>\n",
       "      <td>...</td>\n",
       "      <td>...</td>\n",
       "      <td>...</td>\n",
       "      <td>...</td>\n",
       "      <td>...</td>\n",
       "      <td>...</td>\n",
       "      <td>...</td>\n",
       "      <td>...</td>\n",
       "    </tr>\n",
       "    <tr>\n",
       "      <th>117983</th>\n",
       "      <td>Executives 7</td>\n",
       "      <td>1000007.0</td>\n",
       "      <td>85399XXXXX</td>\n",
       "      <td>62</td>\n",
       "      <td>2022-01-23</td>\n",
       "      <td>20.0</td>\n",
       "      <td>20_21</td>\n",
       "      <td>0:01:32</td>\n",
       "      <td>92.0</td>\n",
       "      <td>answered</td>\n",
       "      <td>Agent</td>\n",
       "      <td>YES</td>\n",
       "      <td>0:00:42</td>\n",
       "    </tr>\n",
       "    <tr>\n",
       "      <th>117984</th>\n",
       "      <td>Executives 36</td>\n",
       "      <td>1000036.0</td>\n",
       "      <td>88397XXXXX</td>\n",
       "      <td>22</td>\n",
       "      <td>2022-01-23</td>\n",
       "      <td>20.0</td>\n",
       "      <td>20_21</td>\n",
       "      <td>0:01:14</td>\n",
       "      <td>74.0</td>\n",
       "      <td>answered</td>\n",
       "      <td>Agent</td>\n",
       "      <td>YES</td>\n",
       "      <td>0:00:15</td>\n",
       "    </tr>\n",
       "    <tr>\n",
       "      <th>117985</th>\n",
       "      <td>Executives 48</td>\n",
       "      <td>1000048.0</td>\n",
       "      <td>70035XXXXX</td>\n",
       "      <td>14</td>\n",
       "      <td>2022-01-23</td>\n",
       "      <td>20.0</td>\n",
       "      <td>20_21</td>\n",
       "      <td>0:01:48</td>\n",
       "      <td>108.0</td>\n",
       "      <td>answered</td>\n",
       "      <td>Agent</td>\n",
       "      <td>YES</td>\n",
       "      <td>0:00:23</td>\n",
       "    </tr>\n",
       "    <tr>\n",
       "      <th>117986</th>\n",
       "      <td>Executives 33</td>\n",
       "      <td>1000033.0</td>\n",
       "      <td>87773XXXXX</td>\n",
       "      <td>26</td>\n",
       "      <td>2022-01-23</td>\n",
       "      <td>20.0</td>\n",
       "      <td>20_21</td>\n",
       "      <td>0:01:13</td>\n",
       "      <td>73.0</td>\n",
       "      <td>answered</td>\n",
       "      <td>Agent</td>\n",
       "      <td>YES</td>\n",
       "      <td>0:01:05</td>\n",
       "    </tr>\n",
       "    <tr>\n",
       "      <th>117987</th>\n",
       "      <td>Executives 58</td>\n",
       "      <td>1000058.0</td>\n",
       "      <td>83800XXXXX</td>\n",
       "      <td>5</td>\n",
       "      <td>2022-01-23</td>\n",
       "      <td>20.0</td>\n",
       "      <td>20_21</td>\n",
       "      <td>0:01:22</td>\n",
       "      <td>82.0</td>\n",
       "      <td>answered</td>\n",
       "      <td>Agent</td>\n",
       "      <td>YES</td>\n",
       "      <td>0:00:14</td>\n",
       "    </tr>\n",
       "  </tbody>\n",
       "</table>\n",
       "<p>117047 rows × 13 columns</p>\n",
       "</div>"
      ],
      "text/plain": [
       "           Agent_Name   Agent_ID Customer_Phone_No  Queue_Time(Secs)  \\\n",
       "0       Executives 42  1000042.0        98502XXXXX                 2   \n",
       "1        Executives 4  1000004.0        80595XXXXX                 0   \n",
       "2       Executives 65  1000065.0        70202XXXXX                 0   \n",
       "3       Executives 55  1000055.0        96104XXXXX                 1   \n",
       "4       Executives 21  1000021.0        82001XXXXX                 0   \n",
       "...               ...        ...               ...               ...   \n",
       "117983   Executives 7  1000007.0        85399XXXXX                62   \n",
       "117984  Executives 36  1000036.0        88397XXXXX                22   \n",
       "117985  Executives 48  1000048.0        70035XXXXX                14   \n",
       "117986  Executives 33  1000033.0        87773XXXXX                26   \n",
       "117987  Executives 58  1000058.0        83800XXXXX                 5   \n",
       "\n",
       "       Date_&_Time  Time Time_Bucket Duration(hh:mm:ss)  Call_Seconds (s)  \\\n",
       "0       2022-01-01   9.0        9_10            0:01:36              96.0   \n",
       "1       2022-01-01   9.0        9_10            0:02:20             140.0   \n",
       "2       2022-01-01   9.0        9_10            0:01:25              85.0   \n",
       "3       2022-01-01   9.0        9_10            0:01:31              91.0   \n",
       "4       2022-01-01   9.0        9_10            0:02:45             165.0   \n",
       "...            ...   ...         ...                ...               ...   \n",
       "117983  2022-01-23  20.0       20_21            0:01:32              92.0   \n",
       "117984  2022-01-23  20.0       20_21            0:01:14              74.0   \n",
       "117985  2022-01-23  20.0       20_21            0:01:48             108.0   \n",
       "117986  2022-01-23  20.0       20_21            0:01:13              73.0   \n",
       "117987  2022-01-23  20.0       20_21            0:01:22              82.0   \n",
       "\n",
       "       Call_Status  Wrapped _By Ringing IVR _Duration  \n",
       "0         answered        Agent     YES       0:00:16  \n",
       "1         answered        Agent     YES       0:00:26  \n",
       "2         answered  AutoWrapped     YES       0:00:16  \n",
       "3         answered        Agent     YES       0:00:25  \n",
       "4         answered        Agent     YES       0:00:23  \n",
       "...            ...          ...     ...           ...  \n",
       "117983    answered        Agent     YES       0:00:42  \n",
       "117984    answered        Agent     YES       0:00:15  \n",
       "117985    answered        Agent     YES       0:00:23  \n",
       "117986    answered        Agent     YES       0:01:05  \n",
       "117987    answered        Agent     YES       0:00:14  \n",
       "\n",
       "[117047 rows x 13 columns]"
      ]
     },
     "execution_count": 49,
     "metadata": {},
     "output_type": "execute_result"
    }
   ],
   "source": [
    "abc_call"
   ]
  },
  {
   "cell_type": "code",
   "execution_count": 50,
   "metadata": {},
   "outputs": [],
   "source": [
    "abc_call.to_excel(\"Clean_data_Abc_Call_Analysis.xlsx\")"
   ]
  },
  {
   "cell_type": "code",
   "execution_count": null,
   "metadata": {},
   "outputs": [],
   "source": []
  }
 ],
 "metadata": {
  "kernelspec": {
   "display_name": "Python 3",
   "language": "python",
   "name": "python3"
  },
  "language_info": {
   "codemirror_mode": {
    "name": "ipython",
    "version": 3
   },
   "file_extension": ".py",
   "mimetype": "text/x-python",
   "name": "python",
   "nbconvert_exporter": "python",
   "pygments_lexer": "ipython3",
   "version": "3.11.7"
  }
 },
 "nbformat": 4,
 "nbformat_minor": 2
}
